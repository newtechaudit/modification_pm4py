{
 "cells": [
  {
   "cell_type": "markdown",
   "metadata": {},
   "source": [
    "# МОДИФИКАЦИЯ БИБЛИОТЕКИ PM4PY (ДЛЯ УДОБСТВА АУДИТА ПРОЦЕССОВ)"
   ]
  },
  {
   "cell_type": "markdown",
   "metadata": {},
   "source": [
    "Сейчас мы опишем кейс, используя программный код.\n",
    "\n",
    "Pm4py — это полностью открытая библиотека, предназначенная для использования как в научных, так и промышленных целях. Весь исходный код находится в репозитории github.\n",
    "\n",
    "Плюсы библиотеки:\n",
    "- Простота использования (для визуализации необходимо всего ~10 строк кода)\n",
    "- Открытый исходный код\n",
    "\n",
    "Минусы библиотеки:\n",
    "- Отсутствие множества базовых функций необходимых для аудита процесса\n",
    "- Ошибки в работе библиотеки\n",
    "- Отсутствие примеров использования множества базовых функций в интернете\n",
    "- Ограниченный функционал\n",
    "- Сложность визуальной оценки (монохромность графа)\n",
    "\n",
    "Для примера работы библиотеки были сформированы логи содержащие жизненный цикл сделок и написан код для визуализации процесса.\n",
    "Пример кода представлен ниже."
   ]
  },
  {
   "cell_type": "code",
   "execution_count": null,
   "metadata": {},
   "outputs": [],
   "source": [
    "data_dev = pd.read_excel('log.xlsx')\n",
    "data_frame=pd.DataFrame()\n",
    "data_frame['case:concept:name'] = data_dev['id']\n",
    "data_frame['concept:name'] = data_dev['st']\n",
    "data_frame['time:timestamp'] = data_dev['date']\n",
    "data_frame.to_csv('data_frame.csv')\n",
    "event_stream = factory.import_event_stream(os.path.join('data_frame.csv'))\n",
    "event_log=conversion_factory.apply(event_stream)\n",
    "heu_net = heuristics_miner.apply_heu(event_log, parameters = {\"dependency_thresh\" : 0, \"and_measure_thresh\":0, \"dfg_pre_cleaning_noise_thresh\":0 })os.environ[\"PATH\"] += os.pathsep + 'C:/Program Files (x86)/Graphviz2.38/bin/'\n",
    "gviz=hn_vis_factory.apply(heu_net)\n",
    "hn_vis_factory.view(gviz)"
   ]
  },
  {
   "cell_type": "markdown",
   "metadata": {},
   "source": [
    " "
   ]
  },
  {
   "cell_type": "markdown",
   "metadata": {},
   "source": [
    "В результате работы данного кода было получено изображение, представленное на рисунке ниже."
   ]
  },
  {
   "cell_type": "markdown",
   "metadata": {},
   "source": [
    "![alt text](pic1.png \"Title\")"
   ]
  },
  {
   "cell_type": "markdown",
   "metadata": {},
   "source": [
    " "
   ]
  },
  {
   "cell_type": "markdown",
   "metadata": {},
   "source": [
    "Представим, что у нас был бы не простой процесс, а очень запутанный (нечитабльный), как ниже."
   ]
  },
  {
   "cell_type": "markdown",
   "metadata": {},
   "source": [
    " "
   ]
  },
  {
   "cell_type": "markdown",
   "metadata": {},
   "source": [
    "![alt text](pic2.png \"Title\")"
   ]
  },
  {
   "cell_type": "markdown",
   "metadata": {},
   "source": [
    " "
   ]
  },
  {
   "cell_type": "markdown",
   "metadata": {},
   "source": [
    "Теперь видно, что есть несколько проблем:\n",
    "\n",
    "А) Определение отклонений\n",
    "\n",
    "Б) Нет среднего времени между двумя стадиями\n",
    "\n",
    "В) Невозможно идентифицировать объекты между стадиями\n",
    "\n",
    "Для решения этих проблем можно воспользоваться некоторыми функциями из других библиотек (graphviz, datetime, dateutil).\n",
    "\n",
    "Первую часть кода оставляем с незначительными изменениями (приведение к формату даты, сортировка данных)."
   ]
  },
  {
   "cell_type": "code",
   "execution_count": null,
   "metadata": {},
   "outputs": [],
   "source": [
    "data_dev = pd.read_excel('log.xlsx')\n",
    "data_frame=pd.DataFrame()\n",
    "data_frame['case:concept:name'] = data_dev['id']\n",
    "data_frame['concept:name'] = data_dev['st']\n",
    "data_frame['time:timestamp'] = data_dev['date']\n",
    "data_frame['id'] = data_frame['case:concept:name']\n",
    "data_frame.drop(data_frame.columns.difference(['case:concept:name','concept:name','time:timestamp','id']),1, inplace=True) \n",
    "data_frame[\"time:timestamp\"]=pd.to_datetime(data_frame[\"time:timestamp\"],format='%d.%m.%y %H:%M:%S')\n",
    "data_frame=data_frame.sort_values(['case:concept:name','time:timestamp'])\n",
    "#data_frame=data_frame.drop_duplicates()\n",
    "data_frame=data_frame.reset_index(drop=True)\n",
    "data_frame.to_csv('data_frame.csv')\n",
    "event_stream = factory.import_event_stream(os.path.join('data_frame.csv'))\n",
    "event_log=conversion_factory.apply(event_stream)\n",
    "heu_net = heuristics_miner.apply_heu(event_log, parameters = {\"dependency_thresh\" : 0, \"and_measure_thresh\":0, \"dfg_pre_cleaning_noise_thresh\":0 })"
   ]
  },
  {
   "cell_type": "markdown",
   "metadata": {},
   "source": [
    " "
   ]
  },
  {
   "cell_type": "markdown",
   "metadata": {},
   "source": [
    "Далее необходимо будет создать в качестве подсказки список стадий и дополнить матрицу содержащую все стадии и количество объектов, матрицей объектов, которые библиотека решила исключить, по непонятным причинам."
   ]
  },
  {
   "cell_type": "markdown",
   "metadata": {},
   "source": [
    " "
   ]
  },
  {
   "cell_type": "code",
   "execution_count": null,
   "metadata": {},
   "outputs": [],
   "source": [
    "ki=heu_net.freq_triples_matrix\n",
    "ki2=heu_net.performance_matrix\n",
    "ki3=heu_net.start_activities\n",
    "ki4=heu_net.end_activities\n",
    "for keys in ki.keys():\n",
    "    if keys in ki2.keys():\n",
    "        for keyst in ki.get(keys):\n",
    "            if keyst not in ki2.get(keys):\n",
    "                ki2.get(keys)[keyst]=ki.get(keys).get(keyst)\n",
    "    else:\n",
    "        for keyst in ki.get(keys):\n",
    "            ki2.get(keys)[keyst]=ki.get(keys).get(keyst)\n",
    "podskazka=''\n",
    "e=[]\n",
    "e+=heu_net.performance_matrix.fromkeys(heu_net.nodes)\n",
    "for i in range(0,len(e)):\n",
    "    podskazka+=str(i)+' - '+e[i]+'\\n'  "
   ]
  },
  {
   "cell_type": "markdown",
   "metadata": {},
   "source": [
    " "
   ]
  },
  {
   "cell_type": "markdown",
   "metadata": {},
   "source": [
    "Следующим шагом необходимо написать процедуру для визуализации процесса в виде графа, на котором можно будет указать процент от общего числа объектов, для того чтобы считать их отклонением от нормы, а также добавить время на граф и функцию для конвертирования времени в привычный формат."
   ]
  },
  {
   "cell_type": "markdown",
   "metadata": {},
   "source": [
    "  "
   ]
  },
  {
   "cell_type": "code",
   "execution_count": null,
   "metadata": {},
   "outputs": [],
   "source": [
    "def graph():\n",
    "    global ki2,ki3,ki4\n",
    "    f=Digraph('t', format='png')\n",
    "    for keys in ki2.keys():\n",
    "        for keyst in ki2.get(keys):\n",
    "            k1=0\n",
    "            k2=0\n",
    "            k3=0\n",
    "            k=True\n",
    "            for i in range (0,len(data_frame)-1):               \n",
    "                c=0\n",
    "                c3=0\n",
    "                if data_frame['concept:name'][i].find(str(keys))>=0:\n",
    "                    try:\n",
    "                        c=parser.parse(data_frame['time:timestamp'][i])\n",
    "                    except:\n",
    "                        c=data_frame['time:timestamp'][i]\n",
    "                    if data_frame['concept:name'][i+1].find(str(keyst))>=0 and c!=0 and data_frame['case:concept:name'][i]==data_frame['case:concept:name'][i+1]:\n",
    "                        try:\n",
    "                            c3=parser.parse(data_frame['time:timestamp'][i+1])-c\n",
    "                        except:\n",
    "                            c3=data_frame['time:timestamp'][i+1]-c\n",
    "                        k1+=c3.total_seconds()\n",
    "                        k2+=1  \n",
    "            if k2==0:\n",
    "                k2=1\n",
    "            \n",
    "            if ki2.get(keys).get(keyst)<=round(len(event_log)*0.02):# процент от общего числа case id, для выделения красным\n",
    "                clr='red'\n",
    "                #clr='black'\n",
    "            else:\n",
    "                clr='black'\n",
    "            f.edge(str(keys), str(keyst),str(ki2.get(keys).get(keyst))+' ('+str(convert(k1/k2))+')', color=clr)\n",
    "    for keys in ki3:\n",
    "        for key in keys:\n",
    "            if keys.get(key)<=round(len(event_log)*0.02):\n",
    "                clr='red'\n",
    "                #clr='#8fbc8f'\n",
    "            else:\n",
    "                clr='#8fbc8f'\n",
    "            f.edge('start', str(key),str(keys.get(key)), color=clr)\n",
    "    for keys in ki4:\n",
    "        for key in keys:\n",
    "            if keys.get(key)<=round(len(event_log)*0.02):\n",
    "                #clr='red'\n",
    "                clr='blue'\n",
    "            else:\n",
    "                clr='blue'\n",
    "            f.edge(str(key),'end',str(keys.get(key)), color=clr)\n",
    "    f.node('start',shape='diamond',color='#8fbc8f') #style='filled'\n",
    "    f.node('end',shape='square',color='blue')\n",
    "    f.save()\n",
    "    render('dot','png','t.gv')\n",
    "\n",
    "def convert(sec):\n",
    "    st5=\"\"\n",
    "    td=timedelta(seconds=sec, microseconds=sec-int(sec))\n",
    "    st1=int(td.days)\n",
    "    st2=int(td.seconds/3600)\n",
    "    st3=int((td.seconds/60)%60)\n",
    "    st4=int(td.seconds%60)\n",
    "    if st1>0:\n",
    "        st5+=str(st1)+'d '\n",
    "    if st2>0:\n",
    "        st5+=str(st2)+'h '\n",
    "    if st3>0:\n",
    "        st5+=str(st3)+'m '\n",
    "    if st4>0:\n",
    "        if st3>0:\n",
    "            st5+=str(st4)+'s'\n",
    "        else:\n",
    "            st5+='0m '+str(st4)+'s'\n",
    "    else:\n",
    "        if st1==0 and st2==0 and st3==0:\n",
    "            st5+='0s'\n",
    "    return st5"
   ]
  },
  {
   "cell_type": "markdown",
   "metadata": {},
   "source": [
    " "
   ]
  },
  {
   "cell_type": "markdown",
   "metadata": {},
   "source": [
    "В первой процедуре graph() происходит обход всех стадий и подсчёт общего времени в секундах между стадиями и количества объектов, также установлен порог в 0.02 от общего числа объектов для выделения стрелки красным цветом. После всех подсчетов происходит рисование картинки с помощью библиотеки graphviz. Вторая функция convert() получает секунды и конвертирует в удобный для чтения формат. Пример работы представлен на рисунке ниже."
   ]
  },
  {
   "cell_type": "markdown",
   "metadata": {},
   "source": [
    " "
   ]
  },
  {
   "cell_type": "markdown",
   "metadata": {},
   "source": [
    "![alt text](pic3.png \"Title\")"
   ]
  },
  {
   "cell_type": "markdown",
   "metadata": {},
   "source": [
    " "
   ]
  },
  {
   "cell_type": "markdown",
   "metadata": {},
   "source": [
    "Как видно на рисунке, были добавлены новые стрелки, которых не было при визуализации стандартным методом, а также удалось добавить время на граф и подсветить пути где прошло минимальное количество объектов. "
   ]
  },
  {
   "cell_type": "markdown",
   "metadata": {},
   "source": [
    "Следующим шагом необходимо реализовать функцию для идентификации объектов внутри каждого пути. Реализация данной функции заключалась в получении на вход двух стадий (номеров из подсказки), между которыми необходимо было идентифицировать объекты, и результатом её работы был файл, в котором были все объекты по данному пути процесса."
   ]
  },
  {
   "cell_type": "markdown",
   "metadata": {},
   "source": [
    " "
   ]
  },
  {
   "cell_type": "code",
   "execution_count": null,
   "metadata": {},
   "outputs": [],
   "source": [
    "def exportres(o,p):\n",
    "    global event_log,heu_net,e\n",
    "    ti=[]\n",
    "    if o!='' and p!='':\n",
    "        a=e[int(o)]\n",
    "        b=e[int(p)]\n",
    "        for i in range(0,len(event_log)):\n",
    "            for j in range(0,len(event_log[i])-1):\n",
    "                if (event_log[i][j]['concept:name']==a) and (event_log[i][j+1]['concept:name']==b):\n",
    "                    ti.append(event_log[i][j]['id'])\n",
    "        numpy.savetxt(a.replace('/', ' ')+' - '+b.replace('/', ' ')+'.txt',ti, fmt='%s')\n",
    "    else:\n",
    "        if o!='' and p=='':\n",
    "            \n",
    "            a=e[int(o)]\n",
    "            for i in range(0,len(event_log)):\n",
    "                if (event_log[i][len(event_log[i])-1]['concept:name']==a):\n",
    "                    ti.append(event_log[i][0]['id'])\n",
    "            numpy.savetxt(a.replace('/', ' ')+' - End.txt',ti, fmt='%s')\n",
    "        else:\n",
    "        \n",
    "            if o=='' and p!='':\n",
    "                b=e[int(p)]\n",
    "                for i in range(0,len(event_log)):\n",
    "                    if (event_log[i][0]['concept:name']==b):\n",
    "                        ti.append(event_log[i][0]['id'])\n",
    "            numpy.savetxt('Start'+' - '+b.replace('/', ' ')+'.txt',ti, fmt='%s')"
   ]
  }
 ],
 "metadata": {
  "kernelspec": {
   "display_name": "Python 3",
   "language": "python",
   "name": "python3"
  },
  "language_info": {
   "codemirror_mode": {
    "name": "ipython",
    "version": 3
   },
   "file_extension": ".py",
   "mimetype": "text/x-python",
   "name": "python",
   "nbconvert_exporter": "python",
   "pygments_lexer": "ipython3",
   "version": "3.7.6"
  }
 },
 "nbformat": 4,
 "nbformat_minor": 4
}
